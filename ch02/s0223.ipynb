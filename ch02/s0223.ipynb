{
 "nbformat": 4,
 "nbformat_minor": 2,
 "metadata": {
  "language_info": {
   "name": "python",
   "codemirror_mode": {
    "name": "ipython",
    "version": 3
   },
   "version": "3.7.3-final"
  },
  "orig_nbformat": 2,
  "file_extension": ".py",
  "mimetype": "text/x-python",
  "name": "python",
  "npconvert_exporter": "python",
  "pygments_lexer": "ipython3",
  "version": 3,
  "kernelspec": {
   "name": "python3",
   "display_name": "Python 3"
  }
 },
 "cells": [
  {
   "cell_type": "code",
   "execution_count": 1,
   "metadata": {},
   "outputs": [
    {
     "output_type": "execute_result",
     "data": {
      "text/plain": "deque([0, 1, 2, 3, 4, 5, 6, 7, 8, 9])"
     },
     "metadata": {},
     "execution_count": 1
    }
   ],
   "source": [
    "# 使用双向队列\n",
    "\n",
    "from collections import deque\n",
    "\n",
    "dq = deque(range(10),maxlen=10) # maxlen是一个可选参数，代表这个队列可以容纳的元素的数量，而且一旦设定，这个属性就不能修改了。\n",
    "dq"
   ]
  },
  {
   "cell_type": "code",
   "execution_count": 2,
   "metadata": {},
   "outputs": [
    {
     "output_type": "execute_result",
     "data": {
      "text/plain": "deque([7, 8, 9, 0, 1, 2, 3, 4, 5, 6])"
     },
     "metadata": {},
     "execution_count": 2
    }
   ],
   "source": [
    "# 队列的旋转操作，接收一个参数n，当n>0时，队列的最右边的n个元素会被移动到队列的左边，当n<0时，最左边的n个元素会被移动到右边\n",
    "dq.rotate(3)\n",
    "dq"
   ]
  },
  {
   "cell_type": "code",
   "execution_count": 3,
   "metadata": {},
   "outputs": [
    {
     "output_type": "execute_result",
     "data": {
      "text/plain": "deque([1, 2, 3, 4, 5, 6, 7, 8, 9, 0])"
     },
     "metadata": {},
     "execution_count": 3
    }
   ],
   "source": [
    "dq.rotate(-4)\n",
    "dq"
   ]
  },
  {
   "cell_type": "code",
   "execution_count": 4,
   "metadata": {},
   "outputs": [
    {
     "output_type": "execute_result",
     "data": {
      "text/plain": "deque([-1, 1, 2, 3, 4, 5, 6, 7, 8, 9])"
     },
     "metadata": {},
     "execution_count": 4
    }
   ],
   "source": [
    "dq.appendleft(-1) # 当队列已满时，在队列尾部添加元素时，它的头部元素会自动被移除；反之亦然\n",
    "dq"
   ]
  },
  {
   "cell_type": "code",
   "execution_count": 5,
   "metadata": {},
   "outputs": [
    {
     "output_type": "execute_result",
     "data": {
      "text/plain": "deque([3, 4, 5, 6, 7, 8, 9, 11, 22, 33])"
     },
     "metadata": {},
     "execution_count": 5
    }
   ],
   "source": [
    "dq.extend([11,22,33]) # 在右边添加3个元素后，其队列左端的3个元素会被移除\n",
    "dq"
   ]
  },
  {
   "cell_type": "code",
   "execution_count": 6,
   "metadata": {},
   "outputs": [
    {
     "output_type": "execute_result",
     "data": {
      "text/plain": "deque([10, 20, 30, 40, 3, 4, 5, 6, 7, 8])"
     },
     "metadata": {},
     "execution_count": 6
    }
   ],
   "source": [
    "dq.extendleft([40,30,20,10]) # 该操作并非左侧拼接，而是每个元素不断向左添加\n",
    "dq"
   ]
  },
  {
   "cell_type": "code",
   "execution_count": null,
   "metadata": {},
   "outputs": [],
   "source": []
  }
 ]
}